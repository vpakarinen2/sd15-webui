{
 "cells": [
  {
   "cell_type": "code",
   "execution_count": null,
   "metadata": {},
   "outputs": [],
   "source": [
    "%pip -q uninstall -y torch torchvision torchaudio xformers pytorch-triton || true\n",
    "\n",
    "%pip -q install --index-url https://download.pytorch.org/whl/cu124 \\\n",
    "  torch==2.4.0 torchvision==0.19.0 torchaudio==2.4.0"
   ]
  },
  {
   "cell_type": "code",
   "execution_count": null,
   "metadata": {},
   "outputs": [],
   "source": [
    "%%bash\n",
    "cat > constraints-cu124.txt << 'EOF'\n",
    "torch==2.4.0\n",
    "torchvision==0.19.0\n",
    "torchaudio==2.4.0\n",
    "EOF\n",
    "echo 'Wrote constraints-cu124.txt'"
   ]
  },
  {
   "cell_type": "code",
   "execution_count": null,
   "metadata": {},
   "outputs": [],
   "source": [
    "%pip -q install --upgrade --force-reinstall \\\n",
    "  -r requirements.txt \\\n",
    "  -c constraints-cu124.txt \\\n",
    "  \"fastapi==0.116.1\" \"pydantic>=2.7,<3\" \"typing_extensions>=4.12.2\""
   ]
  },
  {
   "cell_type": "code",
   "execution_count": null,
   "metadata": {},
   "outputs": [],
   "source": [
    "%env HF_HOME=/workspace/hf\n",
    "%env HUGGINGFACE_HUB_CACHE=/workspace/hf/hub\n",
    "%env OUTPUTS_DIR=/workspace/outputs\n",
    "%env LORA_DIR=/workspace/models/lora\n",
    "%env SD_ASSETS_DIR=/workspace/outputs/assets\n",
    "%env SD_EXTRA_REPO=vpakarinen/sd-vae-upscale-ctrl\n",
    "%env SD_CUSTOM_VAE_FILE=vae-ft-mse-840000-ema-pruned.safetensors\n",
    "%env SD_UPSCALER_FILE=4x-UltraSharp.pth\n",
    "%env SD_ENABLE_SAFETY=0\n",
    "%env GRADIO_SERVER_NAME=0.0.0.0\n",
    "%env GRADIO_SERVER_PORT=7860\n",
    "%env GRADIO_SHARE=false\n",
    "\n",
    "import os, pathlib\n",
    "\n",
    "for d in (os.environ['HF_HOME'], os.environ['HUGGINGFACE_HUB_CACHE'], os.environ['OUTPUTS_DIR'], os.environ['LORA_DIR'], os.environ['SD_ASSETS_DIR']):\n",
    "    pathlib.Path(d).mkdir(parents=True, exist_ok=True)\n",
    "print('Dirs ensured. Outputs:', os.environ['OUTPUTS_DIR'])"
   ]
  },
  {
   "cell_type": "code",
   "execution_count": null,
   "metadata": {},
   "outputs": [],
   "source": [
    "!python -u run_app.py"
   ]
  }
 ],
 "metadata": {
  "kernelspec": {
   "display_name": "Python 3",
   "language": "python",
   "name": "python3"
  },
  "language_info": {
   "name": "python",
   "version": "3.11"
  }
 },
 "nbformat": 4,
 "nbformat_minor": 5
}
