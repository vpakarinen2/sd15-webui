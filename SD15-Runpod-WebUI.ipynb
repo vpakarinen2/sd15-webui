{
 "cells": [
  {
   "cell_type": "code",
   "execution_count": null,
   "id": "3d86738f",
   "metadata": {},
   "outputs": [],
   "source": [
    "!git clone https://github.com/vpakarinen2/sd15-webui.git"
   ]
  },
  {
   "cell_type": "code",
   "execution_count": null,
   "metadata": {},
   "outputs": [],
   "source": [
    "%pip -q uninstall -y torch torchvision torchaudio xformers pytorch-triton || true\n",
    "\n",
    "%pip -q install --index-url https://download.pytorch.org/whl/cu124 \\\n",
    "  torch==2.4.0 torchvision==0.19.0 torchaudio==2.4.0"
   ]
  },
  {
   "cell_type": "code",
   "execution_count": null,
   "metadata": {},
   "outputs": [],
   "source": [
    "%%bash\n",
    "cat > constraints-cu124.txt << 'EOF'\n",
    "torch==2.4.0\n",
    "torchvision==0.19.0\n",
    "torchaudio==2.4.0\n",
    "EOF"
   ]
  },
  {
   "cell_type": "code",
   "execution_count": null,
   "metadata": {},
   "outputs": [],
   "source": [
    "%pip -q install --upgrade --force-reinstall \\\n",
    "  -r requirements.txt \\\n",
    "  -c constraints-cu124.txt"
   ]
  },
  {
   "cell_type": "code",
   "execution_count": null,
   "metadata": {},
   "outputs": [],
   "source": [
    "%env HF_HOME=/workspace/hf\n",
    "%env HUGGINGFACE_HUB_CACHE=/workspace/hf/hub\n",
    "%env OUTPUTS_DIR=/workspace/outputs\n",
    "%env LORA_DIR=/workspace/models/lora\n",
    "%env SD_ASSETS_DIR=/workspace/outputs/assets\n",
    "%env SD_EXTRA_REPO=vpakarinen/sd-vae-upscale-ctrl\n",
    "%env SD_CUSTOM_VAE_FILE=vae-ft-mse-840000-ema-pruned.safetensors\n",
    "%env SD_UPSCALER_FILE=4x-UltraSharp.pth\n",
    "%env SD_ENABLE_SAFETY=0\n",
    "%env GRADIO_SERVER_NAME=0.0.0.0\n",
    "%env GRADIO_SERVER_PORT=7860\n",
    "%env GRADIO_SHARE=false\n",
    "\n",
    "import os, pathlib\n",
    "\n",
    "for d in (\n",
    "        os.environ['HF_HOME'], \n",
    "        os.environ['HUGGINGFACE_HUB_CACHE'], \n",
    "        os.environ['OUTPUTS_DIR'], \n",
    "        os.environ['LORA_DIR'], \n",
    "        os.environ['SD_ASSETS_DIR']\n",
    "    ):\n",
    "        pathlib.Path(d).mkdir(parents=True, exist_ok=True)\n",
    "\n",
    "print('Dirs ensured:',\n",
    "      'outputs=', os.environ['OUTPUTS_DIR'],\n",
    "      'lora=', os.environ['LORA_DIR'],\n",
    "      'assets=', os.environ['SD_ASSETS_DIR'],\n",
    "      'hf=', os.environ['HF_HOME'])"
   ]
  },
  {
   "cell_type": "code",
   "execution_count": null,
   "metadata": {},
   "outputs": [],
   "source": [
    "!python -u run_app.py"
   ]
  }
 ],
 "metadata": {
  "kernelspec": {
   "display_name": "Python 3",
   "language": "python",
   "name": "python3"
  },
  "language_info": {
   "name": "python",
   "version": "3.11"
  }
 },
 "nbformat": 4,
 "nbformat_minor": 5
}
