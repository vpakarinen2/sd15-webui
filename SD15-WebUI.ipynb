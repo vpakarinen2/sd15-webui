{
 "cells": [
  {
   "cell_type": "markdown",
   "metadata": {},
   "source": [
    "# SD 1.5 WebUI (Runpod)\n",
    "Use these cells to install deps, set env, and launch the UI.\n"
   ]
  },
  {
   "cell_type": "code",
   "execution_count": null,
   "metadata": {},
   "outputs": [],
   "source": [
    "%pip -q install --upgrade --force-reinstall -r requirements.txt \"gradio_client==0.17.1\" \"fastapi==0.116.1\" \"pydantic>=2.7,<3\" \"typing_extensions>=4.12.2\""
   ]
  },
  {
   "cell_type": "code",
   "execution_count": null,
   "metadata": {},
   "outputs": [],
   "source": [
    "import os, pathlib\n",
    "project_root = pathlib.Path.cwd().resolve()\n",
    "os.environ.setdefault('HF_HOME','/workspace/hf')\n",
    "os.environ.setdefault('HUGGINGFACE_HUB_CACHE','/workspace/hf/hub')\n",
    "os.environ.setdefault('OUTPUTS_DIR','/workspace/outputs')\n",
    "os.environ.setdefault('LORA_DIR','/workspace/models/lora')\n",
    "os.environ.setdefault('GRADIO_SERVER_NAME','0.0.0.0')\n",
    "os.environ.setdefault('GRADIO_SERVER_PORT','7860')\n",
    "os.environ.setdefault('GRADIO_SHARE','false')\n",
    "os.environ.setdefault('SD_ENABLE_SAFETY','0')\n",
    "os.environ.setdefault('SD_EXTRA_REPO','vpakarinen/sd-vae-upscale-ctrl')\n",
    "os.environ.setdefault('SD_CUSTOM_VAE_FILE','vae-ft-mse-840000-ema-pruned.safetensors')\n",
    "os.environ.setdefault('SD_UPSCALER_FILE','4x-UltraSharp.pth')\n",
    "os.environ.setdefault('SD_ASSETS_DIR', str(pathlib.Path(os.environ['OUTPUTS_DIR'])/ 'assets'))\n",
    "\n",
    "for d in (os.environ['HF_HOME'], os.environ['HUGGINGFACE_HUB_CACHE'], os.environ['OUTPUTS_DIR'], os.environ['LORA_DIR'], os.environ['SD_ASSETS_DIR']):\n",
    "    pathlib.Path(d).mkdir(parents=True, exist_ok=True)\n",
    "print('Env set. Outputs:', os.environ['OUTPUTS_DIR'])"
   ]
  },
  {
   "cell_type": "code",
   "execution_count": null,
   "id": "78eaf24a",
   "metadata": {},
   "outputs": [],
   "source": [
    "!python run_app.py"
   ]
  }
 ],
 "metadata": {
  "kernelspec": {
   "display_name": "Python 3",
   "language": "python",
   "name": "python3"
  },
  "language_info": {
   "name": "python",
   "version": "3.11"
  }
 },
 "nbformat": 4,
 "nbformat_minor": 5
}
